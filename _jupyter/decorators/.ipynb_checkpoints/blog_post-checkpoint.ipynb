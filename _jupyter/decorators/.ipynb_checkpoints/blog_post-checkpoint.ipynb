{
 "cells": [
  {
   "cell_type": "markdown",
   "id": "44b36366",
   "metadata": {},
   "source": [
    "## Deep Dive into Pýthon Decorators\n",
    "\n"
   ]
  },
  {
   "cell_type": "code",
   "execution_count": 2,
   "id": "209cf944",
   "metadata": {},
   "outputs": [
    {
     "name": "stdout",
     "output_type": "stream",
     "text": [
      "hello \n",
      "world\n"
     ]
    }
   ],
   "source": [
    "def hello(func):\n",
    "    print(\"hello\")\n",
    "    func()\n",
    "    \n",
    "def world():\n",
    "    print(\"world\")\n",
    "    \n",
    "hello(world)"
   ]
  },
  {
   "cell_type": "code",
   "execution_count": 9,
   "id": "a0cc57a5",
   "metadata": {},
   "outputs": [
    {
     "name": "stdout",
     "output_type": "stream",
     "text": [
      "world\n"
     ]
    }
   ],
   "source": [
    "def hello(func):\n",
    "    return func\n",
    "    \n",
    "def world():\n",
    "    print(\"world\")\n",
    "    \n",
    "hello(world)()"
   ]
  },
  {
   "cell_type": "code",
   "execution_count": 8,
   "id": "909921a9",
   "metadata": {},
   "outputs": [
    {
     "name": "stdout",
     "output_type": "stream",
     "text": [
      "hello\n",
      "world\n"
     ]
    }
   ],
   "source": [
    "def outer():\n",
    "\n",
    "    def inner():\n",
    "        print(\"hello\")\n",
    "        \n",
    "    inner()\n",
    "    \n",
    "    print(\"world\")\n",
    "    \n",
    "outer()"
   ]
  },
  {
   "cell_type": "code",
   "execution_count": 24,
   "id": "fa7278a3",
   "metadata": {},
   "outputs": [
    {
     "name": "stdout",
     "output_type": "stream",
     "text": [
      "called before function\n",
      "greetings\n",
      "called after function\n"
     ]
    }
   ],
   "source": [
    "def my_decorator(my_function):\n",
    "    \n",
    "    def inner():\n",
    "        print(\"called before function\")\n",
    "        result = my_function()\n",
    "        print(\"called after function\")\n",
    "        return result\n",
    "        \n",
    "    return inner\n",
    "\n",
    "@my_decorator\n",
    "def greetings():\n",
    "    print(\"greetings\")\n",
    "    \n",
    "greetings()"
   ]
  },
  {
   "cell_type": "code",
   "execution_count": 25,
   "id": "f4221ae5",
   "metadata": {},
   "outputs": [
    {
     "name": "stdout",
     "output_type": "stream",
     "text": [
      "called before function\n",
      "greetings\n",
      "called after function\n"
     ]
    }
   ],
   "source": [
    "\n",
    "def greetings2():\n",
    "    print(\"greetings\")\n",
    "    \n",
    "greetings2 = my_decorator(greetings2)\n",
    "\n",
    "greetings2()"
   ]
  },
  {
   "cell_type": "code",
   "execution_count": 26,
   "id": "3b2161b0",
   "metadata": {},
   "outputs": [
    {
     "name": "stdout",
     "output_type": "stream",
     "text": [
      "hello\n",
      "world\n",
      "everyone\n"
     ]
    }
   ],
   "source": [
    "\n",
    "def decorator_hello(func):\n",
    "    \n",
    "    def wrapper():\n",
    "        print(\"hello\")\n",
    "        return func()\n",
    "        \n",
    "    return wrapper\n",
    "\n",
    "def decorator_world(func):\n",
    "    \n",
    "    def wrapper():\n",
    "        print(\"world\")\n",
    "        return func()\n",
    "    \n",
    "    return wrapper\n",
    "    \n",
    "@decorator_hello\n",
    "@decorator_world\n",
    "def more_greetings():\n",
    "    print(\"everyone\")\n",
    "\n",
    "\n",
    "more_greetings()"
   ]
  },
  {
   "cell_type": "code",
   "execution_count": 31,
   "id": "1dae2134",
   "metadata": {},
   "outputs": [],
   "source": [
    "def fancy_decorator(func):\n",
    "    \n",
    "    def wrapper():\n",
    "        return func()\n",
    "    \n",
    "    return wrapper\n",
    "\n",
    "@fancy_decorator\n",
    "def simple_function():\n",
    "    pass"
   ]
  },
  {
   "cell_type": "code",
   "execution_count": 32,
   "id": "99fc46e4",
   "metadata": {},
   "outputs": [
    {
     "name": "stdout",
     "output_type": "stream",
     "text": [
      "wrapper\n"
     ]
    }
   ],
   "source": [
    "print(simple_function.__name__)"
   ]
  },
  {
   "cell_type": "code",
   "execution_count": null,
   "id": "bbf0a7d8",
   "metadata": {},
   "outputs": [],
   "source": [
    "    "
   ]
  },
  {
   "cell_type": "code",
   "execution_count": 16,
   "id": "5e958a7c",
   "metadata": {},
   "outputs": [
    {
     "name": "stdout",
     "output_type": "stream",
     "text": [
      "helloWorld\n"
     ]
    }
   ],
   "source": [
    "def to_camel_case(func):\n",
    "    \n",
    "    def wrapper():\n",
    "        \n",
    "        snake_case_str = func()\n",
    "        \n",
    "        words = snake_case_str.split('_')\n",
    "        camel_case_str = words[0] + ''.join(word.title() for word in words[1:])\n",
    "        \n",
    "        return camel_case_str\n",
    "    \n",
    "    return wrapper\n",
    "\n",
    "\n",
    "@to_camel_case\n",
    "def create_snake_case_str():\n",
    "    \n",
    "    return \"hello_world\"\n",
    "\n",
    "print(create_snake_case_str())\n",
    "\n",
    "@to_camel_case\n",
    "def create_snake_case_str2(snake_str):\n",
    "    \n",
    "    return snake_str\n"
   ]
  },
  {
   "cell_type": "code",
   "execution_count": 15,
   "id": "27ed5772",
   "metadata": {},
   "outputs": [
    {
     "ename": "TypeError",
     "evalue": "wrapper() takes 0 positional arguments but 1 was given",
     "output_type": "error",
     "traceback": [
      "\u001b[0;31m---------------------------------------------------------------------------\u001b[0m",
      "\u001b[0;31mTypeError\u001b[0m                                 Traceback (most recent call last)",
      "\u001b[0;32m<ipython-input-15-f6014d4c6b44>\u001b[0m in \u001b[0;36m<module>\u001b[0;34m\u001b[0m\n\u001b[1;32m      4\u001b[0m     \u001b[0;32mreturn\u001b[0m \u001b[0msnake_str\u001b[0m\u001b[0;34m\u001b[0m\u001b[0;34m\u001b[0m\u001b[0m\n\u001b[1;32m      5\u001b[0m \u001b[0;34m\u001b[0m\u001b[0m\n\u001b[0;32m----> 6\u001b[0;31m \u001b[0mcreate_snake_case_str2\u001b[0m\u001b[0;34m(\u001b[0m\u001b[0;34m\"hello_world\"\u001b[0m\u001b[0;34m)\u001b[0m\u001b[0;34m\u001b[0m\u001b[0;34m\u001b[0m\u001b[0m\n\u001b[0m",
      "\u001b[0;31mTypeError\u001b[0m: wrapper() takes 0 positional arguments but 1 was given"
     ]
    }
   ],
   "source": [
    "@to_camel_case\n",
    "def create_snake_case_str2(snake_str):\n",
    "    \n",
    "    return snake_str\n",
    "\n",
    "create_snake_case_str2(\"hello_world\")"
   ]
  },
  {
   "cell_type": "code",
   "execution_count": 18,
   "id": "bd298976",
   "metadata": {},
   "outputs": [
    {
     "ename": "TypeError",
     "evalue": "wrapper() got an unexpected keyword argument 'snake_str'",
     "output_type": "error",
     "traceback": [
      "\u001b[0;31m---------------------------------------------------------------------------\u001b[0m",
      "\u001b[0;31mTypeError\u001b[0m                                 Traceback (most recent call last)",
      "\u001b[0;32m<ipython-input-18-c435afc86bff>\u001b[0m in \u001b[0;36m<module>\u001b[0;34m\u001b[0m\n\u001b[0;32m----> 1\u001b[0;31m \u001b[0mcreate_snake_case_str2\u001b[0m\u001b[0;34m(\u001b[0m\u001b[0msnake_str\u001b[0m\u001b[0;34m=\u001b[0m\u001b[0;34m\"hello_world\"\u001b[0m\u001b[0;34m)\u001b[0m\u001b[0;34m\u001b[0m\u001b[0;34m\u001b[0m\u001b[0m\n\u001b[0m",
      "\u001b[0;31mTypeError\u001b[0m: wrapper() got an unexpected keyword argument 'snake_str'"
     ]
    }
   ],
   "source": [
    "create_snake_case_str2(snake_str=\"hello_world\")"
   ]
  },
  {
   "cell_type": "code",
   "execution_count": 20,
   "id": "f4070bae",
   "metadata": {},
   "outputs": [
    {
     "name": "stdout",
     "output_type": "stream",
     "text": [
      "helloWorld\n",
      "helloWorld\n"
     ]
    }
   ],
   "source": [
    "def to_camel_case(func):\n",
    "    \n",
    "    def wrapper(*args, **kwargs):\n",
    "        \n",
    "        snake_case_str = func(*args, **kwargs)\n",
    "        \n",
    "        words = snake_case_str.split('_')\n",
    "        camel_case_str = words[0] + ''.join(word.title() for word in words[1:])\n",
    "        \n",
    "        return camel_case_str\n",
    "    \n",
    "    return wrapper\n",
    "\n",
    "@to_camel_case\n",
    "def create_snake_case_str2(snake_str):\n",
    "    \n",
    "    return snake_str\n",
    "\n",
    "print(create_snake_case_str2(\"hello_world\"))\n",
    "print(create_snake_case_str2(snake_str=\"hello_world\"))"
   ]
  },
  {
   "cell_type": "code",
   "execution_count": 24,
   "id": "84ffd1b9",
   "metadata": {},
   "outputs": [
    {
     "name": "stdout",
     "output_type": "stream",
     "text": [
      "16\n"
     ]
    }
   ],
   "source": [
    "class ValidationException(Exception):\n",
    "    pass\n",
    "\n",
    "class validate_range:\n",
    "    \n",
    "    def __init__(self, lower_bound, upper_bound):\n",
    "        self._lower_bound = lower_bound\n",
    "        self._upper_bound = upper_bound\n",
    "        \n",
    "    def __call__(self, func):\n",
    "        \n",
    "        def wrapper(value):\n",
    "            \n",
    "            if value < self._lower_bound:\n",
    "                raise ValidationException(\"value must be greater than {}\".format(self._lower_bound))\n",
    "            elif value > self._upper_bound:\n",
    "                raise ValidationException(\"value must be smaller than {}\".format(self._upper_bound))\n",
    "            else:\n",
    "                return func(value)\n",
    "            \n",
    "        return wrapper\n",
    "    \n",
    "@validate_range(1, 200)\n",
    "def square(value):\n",
    "    return value * value\n",
    "\n",
    "\n",
    "print(square(4))\n"
   ]
  },
  {
   "cell_type": "code",
   "execution_count": 25,
   "id": "1d999c4b",
   "metadata": {},
   "outputs": [
    {
     "ename": "ValidationException",
     "evalue": "value must be greater than 1",
     "output_type": "error",
     "traceback": [
      "\u001b[0;31m---------------------------------------------------------------------------\u001b[0m",
      "\u001b[0;31mValidationException\u001b[0m                       Traceback (most recent call last)",
      "\u001b[0;32m<ipython-input-25-5a066a9967b0>\u001b[0m in \u001b[0;36m<module>\u001b[0;34m\u001b[0m\n\u001b[0;32m----> 1\u001b[0;31m \u001b[0msquare\u001b[0m\u001b[0;34m(\u001b[0m\u001b[0;36m0\u001b[0m\u001b[0;34m)\u001b[0m\u001b[0;34m\u001b[0m\u001b[0;34m\u001b[0m\u001b[0m\n\u001b[0m",
      "\u001b[0;32m<ipython-input-24-e1b37a79c0e1>\u001b[0m in \u001b[0;36mwrapper\u001b[0;34m(value)\u001b[0m\n\u001b[1;32m     13\u001b[0m \u001b[0;34m\u001b[0m\u001b[0m\n\u001b[1;32m     14\u001b[0m             \u001b[0;32mif\u001b[0m \u001b[0mvalue\u001b[0m \u001b[0;34m<\u001b[0m \u001b[0mself\u001b[0m\u001b[0;34m.\u001b[0m\u001b[0m_lower_bound\u001b[0m\u001b[0;34m:\u001b[0m\u001b[0;34m\u001b[0m\u001b[0;34m\u001b[0m\u001b[0m\n\u001b[0;32m---> 15\u001b[0;31m                 \u001b[0;32mraise\u001b[0m \u001b[0mValidationException\u001b[0m\u001b[0;34m(\u001b[0m\u001b[0;34m\"value must be greater than {}\"\u001b[0m\u001b[0;34m.\u001b[0m\u001b[0mformat\u001b[0m\u001b[0;34m(\u001b[0m\u001b[0mself\u001b[0m\u001b[0;34m.\u001b[0m\u001b[0m_lower_bound\u001b[0m\u001b[0;34m)\u001b[0m\u001b[0;34m)\u001b[0m\u001b[0;34m\u001b[0m\u001b[0;34m\u001b[0m\u001b[0m\n\u001b[0m\u001b[1;32m     16\u001b[0m             \u001b[0;32melif\u001b[0m \u001b[0mvalue\u001b[0m \u001b[0;34m>\u001b[0m \u001b[0mself\u001b[0m\u001b[0;34m.\u001b[0m\u001b[0m_upper_bound\u001b[0m\u001b[0;34m:\u001b[0m\u001b[0;34m\u001b[0m\u001b[0;34m\u001b[0m\u001b[0m\n\u001b[1;32m     17\u001b[0m                 \u001b[0;32mraise\u001b[0m \u001b[0mValidationException\u001b[0m\u001b[0;34m(\u001b[0m\u001b[0;34m\"value must be smaller than {}\"\u001b[0m\u001b[0;34m.\u001b[0m\u001b[0mformat\u001b[0m\u001b[0;34m(\u001b[0m\u001b[0mself\u001b[0m\u001b[0;34m.\u001b[0m\u001b[0m_upper_bound\u001b[0m\u001b[0;34m)\u001b[0m\u001b[0;34m)\u001b[0m\u001b[0;34m\u001b[0m\u001b[0;34m\u001b[0m\u001b[0m\n",
      "\u001b[0;31mValidationException\u001b[0m: value must be greater than 1"
     ]
    }
   ],
   "source": [
    "square(0)"
   ]
  },
  {
   "cell_type": "code",
   "execution_count": 26,
   "id": "e72c17b6",
   "metadata": {},
   "outputs": [
    {
     "ename": "ValidationException",
     "evalue": "value must be smaller than 200",
     "output_type": "error",
     "traceback": [
      "\u001b[0;31m---------------------------------------------------------------------------\u001b[0m",
      "\u001b[0;31mValidationException\u001b[0m                       Traceback (most recent call last)",
      "\u001b[0;32m<ipython-input-26-a8d7c51db508>\u001b[0m in \u001b[0;36m<module>\u001b[0;34m\u001b[0m\n\u001b[0;32m----> 1\u001b[0;31m \u001b[0msquare\u001b[0m\u001b[0;34m(\u001b[0m\u001b[0;36m2001\u001b[0m\u001b[0;34m)\u001b[0m\u001b[0;34m\u001b[0m\u001b[0;34m\u001b[0m\u001b[0m\n\u001b[0m",
      "\u001b[0;32m<ipython-input-24-e1b37a79c0e1>\u001b[0m in \u001b[0;36mwrapper\u001b[0;34m(value)\u001b[0m\n\u001b[1;32m     15\u001b[0m                 \u001b[0;32mraise\u001b[0m \u001b[0mValidationException\u001b[0m\u001b[0;34m(\u001b[0m\u001b[0;34m\"value must be greater than {}\"\u001b[0m\u001b[0;34m.\u001b[0m\u001b[0mformat\u001b[0m\u001b[0;34m(\u001b[0m\u001b[0mself\u001b[0m\u001b[0;34m.\u001b[0m\u001b[0m_lower_bound\u001b[0m\u001b[0;34m)\u001b[0m\u001b[0;34m)\u001b[0m\u001b[0;34m\u001b[0m\u001b[0;34m\u001b[0m\u001b[0m\n\u001b[1;32m     16\u001b[0m             \u001b[0;32melif\u001b[0m \u001b[0mvalue\u001b[0m \u001b[0;34m>\u001b[0m \u001b[0mself\u001b[0m\u001b[0;34m.\u001b[0m\u001b[0m_upper_bound\u001b[0m\u001b[0;34m:\u001b[0m\u001b[0;34m\u001b[0m\u001b[0;34m\u001b[0m\u001b[0m\n\u001b[0;32m---> 17\u001b[0;31m                 \u001b[0;32mraise\u001b[0m \u001b[0mValidationException\u001b[0m\u001b[0;34m(\u001b[0m\u001b[0;34m\"value must be smaller than {}\"\u001b[0m\u001b[0;34m.\u001b[0m\u001b[0mformat\u001b[0m\u001b[0;34m(\u001b[0m\u001b[0mself\u001b[0m\u001b[0;34m.\u001b[0m\u001b[0m_upper_bound\u001b[0m\u001b[0;34m)\u001b[0m\u001b[0;34m)\u001b[0m\u001b[0;34m\u001b[0m\u001b[0;34m\u001b[0m\u001b[0m\n\u001b[0m\u001b[1;32m     18\u001b[0m             \u001b[0;32melse\u001b[0m\u001b[0;34m:\u001b[0m\u001b[0;34m\u001b[0m\u001b[0;34m\u001b[0m\u001b[0m\n\u001b[1;32m     19\u001b[0m                 \u001b[0;32mreturn\u001b[0m \u001b[0mfunc\u001b[0m\u001b[0;34m(\u001b[0m\u001b[0mvalue\u001b[0m\u001b[0;34m)\u001b[0m\u001b[0;34m\u001b[0m\u001b[0;34m\u001b[0m\u001b[0m\n",
      "\u001b[0;31mValidationException\u001b[0m: value must be smaller than 200"
     ]
    }
   ],
   "source": [
    "square(2001)"
   ]
  },
  {
   "cell_type": "code",
   "execution_count": 41,
   "id": "8b6307d4",
   "metadata": {},
   "outputs": [
    {
     "name": "stdout",
     "output_type": "stream",
     "text": [
      "10\n"
     ]
    },
    {
     "ename": "ValidationException",
     "evalue": "index parameter 0 can not be None",
     "output_type": "error",
     "traceback": [
      "\u001b[0;31m---------------------------------------------------------------------------\u001b[0m",
      "\u001b[0;31mValidationException\u001b[0m                       Traceback (most recent call last)",
      "\u001b[0;32m<ipython-input-41-c408142e4820>\u001b[0m in \u001b[0;36m<module>\u001b[0;34m\u001b[0m\n\u001b[1;32m     21\u001b[0m \u001b[0;34m\u001b[0m\u001b[0m\n\u001b[1;32m     22\u001b[0m \u001b[0mprint\u001b[0m\u001b[0;34m(\u001b[0m\u001b[0mmultiply\u001b[0m\u001b[0;34m(\u001b[0m\u001b[0;36m2\u001b[0m\u001b[0;34m,\u001b[0m \u001b[0;36m5\u001b[0m\u001b[0;34m)\u001b[0m\u001b[0;34m)\u001b[0m\u001b[0;34m\u001b[0m\u001b[0;34m\u001b[0m\u001b[0m\n\u001b[0;32m---> 23\u001b[0;31m \u001b[0mprint\u001b[0m\u001b[0;34m(\u001b[0m\u001b[0mmultiply\u001b[0m\u001b[0;34m(\u001b[0m\u001b[0;32mNone\u001b[0m\u001b[0;34m,\u001b[0m \u001b[0;36m5\u001b[0m\u001b[0;34m)\u001b[0m\u001b[0;34m)\u001b[0m\u001b[0;34m\u001b[0m\u001b[0;34m\u001b[0m\u001b[0m\n\u001b[0m",
      "\u001b[0;32m<ipython-input-41-c408142e4820>\u001b[0m in \u001b[0;36mwrapper\u001b[0;34m(*args, **kwargs)\u001b[0m\n\u001b[1;32m      8\u001b[0m \u001b[0;34m\u001b[0m\u001b[0m\n\u001b[1;32m      9\u001b[0m             \u001b[0;32mif\u001b[0m  \u001b[0margs\u001b[0m\u001b[0;34m[\u001b[0m\u001b[0mself\u001b[0m\u001b[0;34m.\u001b[0m\u001b[0m_index\u001b[0m\u001b[0;34m]\u001b[0m \u001b[0;32mis\u001b[0m \u001b[0;32mNone\u001b[0m\u001b[0;34m:\u001b[0m\u001b[0;34m\u001b[0m\u001b[0;34m\u001b[0m\u001b[0m\n\u001b[0;32m---> 10\u001b[0;31m                 \u001b[0;32mraise\u001b[0m \u001b[0mValidationException\u001b[0m\u001b[0;34m(\u001b[0m\u001b[0;34m\"index parameter {} can not be None\"\u001b[0m\u001b[0;34m.\u001b[0m\u001b[0mformat\u001b[0m\u001b[0;34m(\u001b[0m\u001b[0mself\u001b[0m\u001b[0;34m.\u001b[0m\u001b[0m_index\u001b[0m\u001b[0;34m)\u001b[0m\u001b[0;34m)\u001b[0m\u001b[0;34m\u001b[0m\u001b[0;34m\u001b[0m\u001b[0m\n\u001b[0m\u001b[1;32m     11\u001b[0m             \u001b[0;32melse\u001b[0m\u001b[0;34m:\u001b[0m\u001b[0;34m\u001b[0m\u001b[0;34m\u001b[0m\u001b[0m\n\u001b[1;32m     12\u001b[0m                 \u001b[0;32mreturn\u001b[0m \u001b[0mfunc\u001b[0m\u001b[0;34m(\u001b[0m\u001b[0;34m*\u001b[0m\u001b[0margs\u001b[0m\u001b[0;34m,\u001b[0m \u001b[0;34m**\u001b[0m\u001b[0mkwargs\u001b[0m\u001b[0;34m)\u001b[0m\u001b[0;34m\u001b[0m\u001b[0;34m\u001b[0m\u001b[0m\n",
      "\u001b[0;31mValidationException\u001b[0m: index parameter 0 can not be None"
     ]
    }
   ],
   "source": [
    "class not_null:\n",
    "    \n",
    "    def __init__(self, index):\n",
    "        self._index = index\n",
    "    \n",
    "    def __call__(self, func):\n",
    "        def wrapper(*args, **kwargs):\n",
    "\n",
    "            if  args[self._index] is None:\n",
    "                raise ValidationException(\"index parameter {} can not be None\".format(self._index))\n",
    "            else:\n",
    "                return func(*args, **kwargs)\n",
    "            \n",
    "        return wrapper\n",
    "            \n",
    "@not_null(0)\n",
    "@not_null(1)\n",
    "def multiply(a, b):\n",
    "    return a * b\n",
    "    \n",
    "    \n",
    "print(multiply(2, 5))\n",
    "print(multiply(None, 5))"
   ]
  },
  {
   "cell_type": "code",
   "execution_count": 42,
   "id": "e52eb47e",
   "metadata": {},
   "outputs": [
    {
     "name": "stdout",
     "output_type": "stream",
     "text": [
      "10\n"
     ]
    }
   ],
   "source": [
    "class number_generator:\n",
    "    \n",
    "    def __init__(self, parameter_name):\n",
    "        self._parameter_name = parameter_name\n",
    "        \n",
    "    def _next_value(self):\n",
    "        return 5\n",
    "        \n",
    "    def __call__(self, func):\n",
    "        \n",
    "        def wrapper(*args, **kwargs):\n",
    "            \n",
    "            kwargs[self._parameter_name] = self._next_value()\n",
    "            return func(*args, **kwargs)\n",
    "        \n",
    "        return wrapper\n",
    "        \n",
    "    \n",
    "@number_generator(\"a\")\n",
    "@number_generator(\"b\")\n",
    "def add(a=None, b=None):\n",
    "    return a + b\n",
    "\n",
    "\n",
    "print(add())"
   ]
  },
  {
   "cell_type": "code",
   "execution_count": null,
   "id": "51a19726",
   "metadata": {},
   "outputs": [],
   "source": []
  }
 ],
 "metadata": {
  "kernelspec": {
   "display_name": "Python 3",
   "language": "python",
   "name": "python3"
  },
  "language_info": {
   "codemirror_mode": {
    "name": "ipython",
    "version": 3
   },
   "file_extension": ".py",
   "mimetype": "text/x-python",
   "name": "python",
   "nbconvert_exporter": "python",
   "pygments_lexer": "ipython3",
   "version": "3.8.8"
  }
 },
 "nbformat": 4,
 "nbformat_minor": 5
}
