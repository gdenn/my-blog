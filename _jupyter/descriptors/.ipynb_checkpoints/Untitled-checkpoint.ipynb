{
 "cells": [
  {
   "cell_type": "code",
   "execution_count": 17,
   "id": "5d3ea43e",
   "metadata": {},
   "outputs": [],
   "source": [
    "import logging\n",
    "from abc import ABC, abstractmethod\n",
    "\n",
    "logging.basicConfig(level=logging.INFO)\n",
    "\n",
    "\n",
    "class ValidationException(Exception):\n",
    "    pass\n",
    "\n",
    "class PropertyWithValidator(ABC):\n",
    "\n",
    "    def __set_name__(self, owner, name):\n",
    "        self.property_name = \"_\" + name\n",
    "        \n",
    "    def __get__(self, obj, obj_type=None):\n",
    "        value = getattr(obj, self.property_name)\n",
    "        logger.info(\"__get__: %r\", value)\n",
    "        return value\n",
    "        \n",
    "    def __set__(self, obj, value):\n",
    "        self.validate(value)\n",
    "        logger.info(\"__set__: %r\", value)\n",
    "        setattr(obj, self.property_name, value)\n",
    "\n",
    "    @abstractmethod\n",
    "    def validate(self, value):\n",
    "        pass\n",
    "    \n",
    "    \n",
    "class IPv4(PropertyWithValidator):\n",
    "    \n",
    "    def validate(self, value):\n",
    "        \n",
    "        if type(value) is not str:\n",
    "            raise ValidationException(\"{} must be a string to be a valid ipv4 address\".format(value))\n",
    "        \n",
    "        ipv4_pattern = re.compile(r'^(?:[0-9]{1,3}\\.){3}[0-9]{1,3}$')\n",
    "        if not ipv4_pattern.match(value):\n",
    "            raise ValidationException(\"{} is not a valid ipv4 address\".format(value))\n",
    "        \n",
    "    \n",
    "    \n",
    "class Flow:\n",
    "    \n",
    "    src_ipv4 = IPv4()\n",
    "    dst_ipv4 = IPv4()\n",
    "\n",
    "    \n",
    "flow = Flow()\n",
    "flow.src_ipv4 = \"2.2.2.2\"\n",
    "flow.dst_ipv4 = \"5.5.5.\""
   ]
  },
  {
   "cell_type": "code",
   "execution_count": null,
   "id": "878f0f0f",
   "metadata": {},
   "outputs": [],
   "source": []
  }
 ],
 "metadata": {
  "kernelspec": {
   "display_name": "Python 3",
   "language": "python",
   "name": "python3"
  },
  "language_info": {
   "codemirror_mode": {
    "name": "ipython",
    "version": 3
   },
   "file_extension": ".py",
   "mimetype": "text/x-python",
   "name": "python",
   "nbconvert_exporter": "python",
   "pygments_lexer": "ipython3",
   "version": "3.9.5"
  }
 },
 "nbformat": 4,
 "nbformat_minor": 5
}
