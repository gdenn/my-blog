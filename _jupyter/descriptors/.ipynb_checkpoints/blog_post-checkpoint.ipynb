{
 "cells": [
  {
   "cell_type": "markdown",
   "id": "95059ede",
   "metadata": {},
   "source": [
    "## Abstract\n",
    "\n",
    "The python descriptor protocol offers a neat, yet powerful way to handle the access of class and instance attributes.\n",
    " \n",
    "\n",
    "### Key Points\n",
    "\n",
    "* What is the descriptor protocol?\n",
    "\n",
    "* How do I apply the descriptor protocol?\n",
    "\n",
    "* Close look at the descriptor API\n",
    "\n",
    "* Applications of the descriptor protocol.\n",
    "\n",
    "* Use descriptors and decorators to implements the `@property` annotation\n",
    "\n",
    "\n",
    "### Descriptor Protocol\n",
    "\n",
    "The Python descriptor protocol is an addition to the Python data model. You can use descriptors to customize the **access** of class and object instance attributes.\n",
    "\n",
    "Sounds pretty abstract, doesn't it? ;-)"
   ]
  },
  {
   "cell_type": "code",
   "execution_count": 50,
   "id": "1fbcd125",
   "metadata": {},
   "outputs": [],
   "source": [
    "class Person:\n",
    "    \n",
    "    name = \"Mustermann\"\n",
    "    \n",
    "    def __init__(self):\n",
    "        self.first_name = \"Max\"\n",
    "        \n",
    "        \n",
    "person = Person()\n",
    "\n",
    "# read\n",
    "person.name\n",
    "person.first_name\n",
    "\n",
    "# write\n",
    "person.name = \"Mareike\"\n",
    "person.first_name = \"Maike\"\n",
    "\n",
    "# delete\n",
    "del person.name\n",
    "del person.first_name"
   ]
  },
  {
   "cell_type": "markdown",
   "id": "ec6261dd",
   "metadata": {},
   "source": [
    "Our `Person` class contains two attributes.\n",
    "\n",
    "* The class attribute `name`\n",
    "\n",
    "* The object instance attribute `first_name`\n",
    "\n",
    "The code above demonstrates how we can access these two attributes through the **read**, **write**, and **delete** operations.\n",
    "\n",
    "Most of you already know this syntax. \n",
    "But it is interesting to have a deeper look into the Python data model to see how the access truly works.\n",
    "\n",
    "Python stores methods and attributes in a special variable called `__dict__`. \n",
    "The `__dict__` variable is a dictionary. \n",
    "The dictionary keys reference the name of an attribute or method, and the value is the attribute value or method object."
   ]
  },
  {
   "cell_type": "code",
   "execution_count": 67,
   "id": "50464a48",
   "metadata": {},
   "outputs": [
    {
     "name": "stdout",
     "output_type": "stream",
     "text": [
      "dict_keys([])\n",
      "dict_keys(['__module__', 'name', '__dict__', '__weakref__', '__doc__'])\n"
     ]
    }
   ],
   "source": [
    "person = Person()\n",
    "\n",
    "print(person.__dict__.keys())\n",
    "\n",
    "print(Person.__dict__.keys())"
   ]
  },
  {
   "cell_type": "markdown",
   "id": "dd65a17a",
   "metadata": {},
   "source": [
    "As you can see, object instances and class objects have their own `__dict__` variable.\n",
    "\n",
    "This separation is necessary to have independent object instance attributes and methods (state).\n",
    "\n",
    "You can spot the `name` class attribute in the output of `Person.__dict__` and the `first_name` object instance attribute in the output of `person.__dict__`. \n",
    "\n",
    "This is a very simple, yet powerful concept. \n",
    "\n",
    "The read, write and delete operations that we demonstrated above are just **syntactic sugar**. \n",
    "Your interpreter will operate on the respective `__dict__` data structures to carry out the operations.\n",
    "\n",
    "The accessor functions that the interpreter uses therefore are `getattr`, `setattr`, and `delattr`."
   ]
  },
  {
   "cell_type": "code",
   "execution_count": 10,
   "id": "28e3ab98",
   "metadata": {},
   "outputs": [],
   "source": [
    "person = Person()\n",
    "\n",
    "# read\n",
    "getattr(Person, \"name\")\n",
    "getattr(person, \"first_name\")\n",
    "\n",
    "# write\n",
    "setattr(Person, \"name\", \"Mareike\")\n",
    "setattr(person, \"name\", \"Maike\")\n",
    "\n",
    "# delete\n",
    "delattr(Person, \"name\")\n",
    "delattr(person, \"first_name\")"
   ]
  },
  {
   "cell_type": "markdown",
   "id": "40e01f4d",
   "metadata": {},
   "source": [
    "I guess some of you are already familiar with those methods. \n",
    "\n",
    "They become very useful when refactoring code and make class and object instance attributes dynamically accessible.\n",
    "\n",
    "But why do we not operate on the `__dict__` variables directly?"
   ]
  },
  {
   "cell_type": "code",
   "execution_count": 68,
   "id": "129bd843",
   "metadata": {},
   "outputs": [
    {
     "ename": "TypeError",
     "evalue": "'mappingproxy' object does not support item assignment",
     "output_type": "error",
     "traceback": [
      "\u001b[0;31m---------------------------------------------------------------------------\u001b[0m",
      "\u001b[0;31mTypeError\u001b[0m                                 Traceback (most recent call last)",
      "\u001b[0;32m<ipython-input-68-7ab3e836bd7a>\u001b[0m in \u001b[0;36m<module>\u001b[0;34m\u001b[0m\n\u001b[1;32m      3\u001b[0m \u001b[0;34m\u001b[0m\u001b[0m\n\u001b[1;32m      4\u001b[0m \u001b[0;31m# write\u001b[0m\u001b[0;34m\u001b[0m\u001b[0;34m\u001b[0m\u001b[0;34m\u001b[0m\u001b[0m\n\u001b[0;32m----> 5\u001b[0;31m \u001b[0mPerson\u001b[0m\u001b[0;34m.\u001b[0m\u001b[0m__dict__\u001b[0m\u001b[0;34m[\u001b[0m\u001b[0;34m\"name\"\u001b[0m\u001b[0;34m]\u001b[0m \u001b[0;34m=\u001b[0m \u001b[0;34m\"Mareike\"\u001b[0m\u001b[0;34m\u001b[0m\u001b[0;34m\u001b[0m\u001b[0m\n\u001b[0m\u001b[1;32m      6\u001b[0m \u001b[0;34m\u001b[0m\u001b[0m\n\u001b[1;32m      7\u001b[0m \u001b[0;31m# delete\u001b[0m\u001b[0;34m\u001b[0m\u001b[0;34m\u001b[0m\u001b[0;34m\u001b[0m\u001b[0m\n",
      "\u001b[0;31mTypeError\u001b[0m: 'mappingproxy' object does not support item assignment"
     ]
    }
   ],
   "source": [
    "# read\n",
    "Person.__dict__[\"name\"]\n",
    "\n",
    "# write\n",
    "Person.__dict__[\"name\"] = \"Mareike\"\n",
    "\n",
    "# delete\n",
    "del Person.__dict__[\"name\"]"
   ]
  },
  {
   "cell_type": "markdown",
   "id": "4c8130e0",
   "metadata": {},
   "source": [
    "You cannot write to the `__dict__` data structure directly. \n",
    "\n",
    "The reason for this becomes clear when we have a look at the descriptor protocol.\n",
    "\n",
    "Descriptors allow us to **customize** the way `getattr`, `setattr` and `delattr` **access** instance or class attributes.\n",
    "\n",
    "Here is a simplified version of the `Person` example with a descriptor class attribute."
   ]
  },
  {
   "cell_type": "code",
   "execution_count": 69,
   "id": "8814fcc9",
   "metadata": {},
   "outputs": [],
   "source": [
    "import logging\n",
    "\n",
    "logging.basicConfig(level=logging.INFO)\n",
    "\n",
    "class MyStringField:\n",
    "        \n",
    "    def __get__(self, obj, obj_type=None):\n",
    "        logging.info(\"__get__: self._name -> %r\", obj._name)\n",
    "        return obj._name\n",
    "    \n",
    "    def __set__(self, obj, value):\n",
    "        logging.info(\"__set__: self._name <- %r\", value)\n",
    "        obj._name = value\n",
    "        \n",
    "    def __delete__(self, obj):\n",
    "        logging.info(\"__delete__: self._name\")\n",
    "        del obj._name\n",
    "        \n",
    "\n",
    "class Person:\n",
    "    \n",
    "    name = MyStringField()"
   ]
  },
  {
   "cell_type": "markdown",
   "id": "50938afe",
   "metadata": {},
   "source": [
    "What do you think? Does our name descriptor attribute customize the access for an **instance** or for a **class attribute**?"
   ]
  },
  {
   "cell_type": "code",
   "execution_count": 46,
   "id": "1c3a49b0",
   "metadata": {},
   "outputs": [
    {
     "name": "stderr",
     "output_type": "stream",
     "text": [
      "INFO:root:__set__: self._name <- 'Max Mustermann'\n",
      "INFO:root:__get__: self._name -> 'Max Mustermann'\n",
      "INFO:root:__delete__: self._name\n"
     ]
    }
   ],
   "source": [
    "person = Person()\n",
    "\n",
    "person.name = \"Max Mustermann\"\n",
    "person.name\n",
    "del person.name"
   ]
  },
  {
   "cell_type": "markdown",
   "id": "285ded69",
   "metadata": {},
   "source": [
    "The descriptor attribute `name` is a **class attribute** but it handles the **access** of the **instance attribute** `_name`.\n",
    "\n",
    "What happens when we put our descriptor in an instance attribute?"
   ]
  },
  {
   "cell_type": "code",
   "execution_count": 49,
   "id": "b82fa022",
   "metadata": {},
   "outputs": [],
   "source": [
    "class Person:\n",
    "    \n",
    "    def __init__(self):\n",
    "      self.name = MyStringField()\n",
    "        \n",
    "person = Person()\n",
    "\n",
    "person.name = \"Max Mustermann\"\n",
    "person.name\n",
    "del person.name"
   ]
  },
  {
   "cell_type": "markdown",
   "id": "909f8874",
   "metadata": {},
   "source": [
    "You can see on the missing log output that our descriptor methods `__get__`, `__set__` and `__delete__` do not get invoked.\n",
    "\n",
    "This is one of the descriptor protocol oddities, **descriptors only work on class attributes**!"
   ]
  },
  {
   "cell_type": "markdown",
   "id": "f8dc96a8",
   "metadata": {},
   "source": [
    "### Descriptor API\n",
    "\n",
    "I guess by now you understood how the descriptor methods `__get__`, `__set__` and `__delete__` is connected to the attribute access.\n",
    "\n",
    "The accessor methods `getattr`, `setattr` and `delattr` invoke the descriptor methods if they exist. \n",
    "That is also the reason why we cannot modify the `__dict__` data structures directly. \n",
    "Modifying the `__dict__` data structures directly would not invoke the descriptor methods of an attribute.\n",
    "\n",
    "Here is a listing of all descriptor protocol methods.\n",
    "\n",
    "```python\n",
    "\n",
    "\"\"\"\n",
    "Override read access behavior.\n",
    "\n",
    ":param obj: reference to the object instance (nullable)\n",
    ":param obj_type: reference to the object instance type (nullable)\n",
    "\"\"\"\n",
    "__get__(self, obj, obj_type=None) -> object\n",
    "\n",
    "\"\"\"\n",
    "Override write access behavior.\n",
    "\n",
    ":param obj: @see __get__\n",
    ":param value: the next value that the caller assigns\n",
    "\"\"\"\n",
    "__set__(self, obj, value) -> None\n",
    "\n",
    "\"\"\"\n",
    "Inform the Descriptor about its name.\n",
    "\n",
    "E.g.\n",
    "class MyDescriptor:\n",
    "\n",
    "   __set_name__(self, obj_type, name):\n",
    "       ...\n",
    "\n",
    "class Person:\n",
    "  first_name = MyDescriptor()\n",
    "  \n",
    "\n",
    "The call `name = MyDescriptor()` invokes \n",
    "__set_name__ with the name=\"first_name\".\n",
    "\n",
    ":param obj: @see __get__\n",
    ":param name: descriptor name\n",
    "\n",
    "\"\"\"\n",
    "__set_name(self, obj_type, name) -> None\n",
    "\n",
    "\n",
    "\"\"\"\n",
    "Override delete behavior\n",
    "\n",
    ":param obj: @see __get__\n",
    "\"\"\"\n",
    "__delete__(self, obj) -> None\n",
    "```\n",
    "\n",
    "The listing contains a new function `__set_name__` which we will explore in the next section.\n",
    "\n",
    "But for now, let us have a look at the `obj` and `obj_type` parameters.\n",
    "\n",
    "`obj` yields a reference to the object instance on which the descriptor got invoked while\n",
    "`obj_type` references the type.\n",
    "\n",
    "Sounds confusing? Let's explain it with an example:"
   ]
  },
  {
   "cell_type": "code",
   "execution_count": 52,
   "id": "c0ee607f",
   "metadata": {},
   "outputs": [
    {
     "name": "stderr",
     "output_type": "stream",
     "text": [
      "INFO:root:__set__: obj: <__main__.Person object at 0x7f4bf024b7f0>\n",
      "INFO:root:__get__: obj: <__main__.Person object at 0x7f4bf024b7f0>, obj_type: <class '__main__.Person'>\n",
      "INFO:root:__delete__: obj: <__main__.Person object at 0x7f4bf024b7f0>\n"
     ]
    }
   ],
   "source": [
    "import logging\n",
    "\n",
    "logging.basicConfig(level=logging.INFO)\n",
    "\n",
    "class MyStringField:\n",
    "        \n",
    "    def __get__(self, obj, obj_type=None):\n",
    "        logging.info(\"__get__: obj: %r, obj_type: %r\", obj, obj_type)\n",
    "        return obj._name\n",
    "    \n",
    "    def __set__(self, obj, value):\n",
    "        logging.info(\"__set__: obj: %r\", obj)\n",
    "        obj._name = value\n",
    "        \n",
    "    def __delete__(self, obj):\n",
    "        logging.info(\"__delete__: obj: %r\", obj)\n",
    "        del obj._name\n",
    "        \n",
    "\n",
    "class Person:\n",
    "    \n",
    "    name = MyStringField()\n",
    "    \n",
    "    \n",
    "person = Person()\n",
    "\n",
    "person.name = \"Max Mustermann\"\n",
    "person.name\n",
    "del person.name"
   ]
  },
  {
   "cell_type": "markdown",
   "id": "c9e87d44",
   "metadata": {},
   "source": [
    "You can see in the log output that `obj` references a `person` object instance, while `obj_type` references the `Person` type.\n",
    "\n",
    "Our descriptors can customize the access to class and instance attributes through the `obj` and `obj_type` parameters."
   ]
  },
  {
   "cell_type": "markdown",
   "id": "4af0d832",
   "metadata": {},
   "source": [
    "### `__set_name__`\n",
    "\n",
    "All descriptors that we wrote so far had to know the name of the property for which they handle the access. \n",
    "So to say, the property name was **hardcoded**. \n",
    "\n",
    "The `__set_name__` descriptor method is there to make our descriptors more generic."
   ]
  },
  {
   "cell_type": "code",
   "execution_count": 67,
   "id": "f19f464e",
   "metadata": {},
   "outputs": [
    {
     "name": "stderr",
     "output_type": "stream",
     "text": [
      "INFO:root:__set_name__ with name: 'name'\n",
      "INFO:root:__set_name__ with name: 'first_name'\n",
      "INFO:root:attributes (after): dict_keys(['_name', '_first_name'])\n",
      "INFO:root:person.name: 'Mustermann'\n",
      "INFO:root:person.first_name: 5\n"
     ]
    }
   ],
   "source": [
    "import logging\n",
    "\n",
    "\n",
    "class MyProperty:\n",
    "    \n",
    "    def __init__(self, prop_type):\n",
    "        self._type = prop_type\n",
    "    \n",
    "    def __set_name__(self, obj_type, name):\n",
    "        logging.info(\"__set_name__ with name: %r\", name)\n",
    "        self.property_name = \"_name\"\n",
    "        \n",
    "    def __get__(self, obj, obj_type=None):\n",
    "        value = getattr(obj, self.property_name)\n",
    "        logging.info(\"__get__: self.%r -> %r\", self.property_name, value)\n",
    "        return value\n",
    "    \n",
    "    def __set__(self, obj, value):\n",
    "        \n",
    "        if type(value) is not self._type:\n",
    "            raise ValueError(\"expected type {} but got {} instead\".format(self._type, type(value)))\n",
    "            \n",
    "        setattr(obj, self.property_name, value)\n",
    "        logging.info(\"__set__: self.%r <- %r\", self.property_name, value)\n",
    "\n",
    "class Person:\n",
    "    \n",
    "    name = MyProperty(prop_type=str)\n",
    "    first_name = MyProperty(prop_type=str)\n",
    "    \n",
    "    \n",
    "person = Person()\n",
    "\n",
    "person._name = \"Mustermann\"\n",
    "person._first_name = 5\n",
    "\n",
    "logging.info(\"attributes (after): %r\", person.__dict__.keys())\n",
    "\n",
    "logging.info(\"person.name: %r\", person._name)\n",
    "logging.info(\"person.first_name: %r\", person._first_name)\n",
    "    "
   ]
  },
  {
   "cell_type": "markdown",
   "id": "6b48bedc",
   "metadata": {},
   "source": [
    "`MyProperty` saves the attribute name that we received through the `__set_name__` call as an instance attribute.\n",
    "\n",
    "Note, we prefixed the property name with a `_` which is a common practice to name private instance attributes in Python.\n",
    "\n",
    "And that's it. \n",
    "You now know how to apply the descriptor protocol!\n",
    "\n",
    "Let us dedicate the rest of the blog post to practical examples that incorporate the descriptor protocol."
   ]
  },
  {
   "cell_type": "markdown",
   "id": "a1bd7eeb",
   "metadata": {},
   "source": [
    "### Validator Descriptor\n",
    "\n",
    "This example demonstrates how we can build our own property types. \n",
    "\n",
    "We want to build an abstract `Validator` attribute class that executes the `validate` method before the attribute gets modified."
   ]
  },
  {
   "cell_type": "code",
   "execution_count": 41,
   "id": "29e3be25",
   "metadata": {},
   "outputs": [],
   "source": [
    "import logging\n",
    "import re\n",
    "from abc import ABC, abstractmethod\n",
    "\n",
    "logging.basicConfig(level=logging.INFO)\n",
    "\n",
    "\n",
    "class ValidationException(Exception):\n",
    "    pass\n",
    "\n",
    "class PropertyWithValidator(ABC):\n",
    "\n",
    "    def __set_name__(self, owner, name):\n",
    "        self.property_name = \"_\" + name\n",
    "        \n",
    "    def __get__(self, obj, obj_type=None):\n",
    "        value = getattr(obj, self.property_name)\n",
    "        logging.info(\"__get__: %r -> %r\", self.property_name, value)\n",
    "        return value\n",
    "        \n",
    "    def __set__(self, obj, value):\n",
    "        self.validate(value)\n",
    "        logging.info(\"__set__: %r <- %r\", self.property_name, value)\n",
    "        setattr(obj, self.property_name, value)\n",
    "\n",
    "    @abstractmethod\n",
    "    def validate(self, value):\n",
    "        pass\n",
    "    \n",
    "    \n",
    "class IPv4(PropertyWithValidator):\n",
    "    \n",
    "    def validate(self, value):\n",
    "        \n",
    "        if type(value) is not str:\n",
    "            raise ValidationException(\"{} must be a string to be a valid ipv4 address\".format(value))\n",
    "        \n",
    "        ipv4_pattern = re.compile(r'^(?:[0-9]{1,3}\\.){3}[0-9]{1,3}$')\n",
    "        if not ipv4_pattern.match(value):\n",
    "            raise ValidationException(\"{} is not a valid ipv4 address\".format(value))\n",
    "    \n",
    "class Flow:\n",
    "\n",
    "    src_ipv4 = IPv4()\n",
    "    dst_ipv4 = IPv4()"
   ]
  },
  {
   "cell_type": "markdown",
   "id": "a7fa7ee1",
   "metadata": {},
   "source": [
    "`PropertyWithValidator` is an abstract class (@see `ABC`) that invokes the abstract `validate` method before you can assign a new value to the descriptor attribute.\n",
    "\n",
    "We used this abstract class in `IPv4` to implement a concrete Validator class. \n",
    "All we had to do for this was to implement a validate method. \n",
    "\n",
    "In our case, the method validate method uses the Python regexp lib `re` to ensure that values meet the IPv4 standard."
   ]
  },
  {
   "cell_type": "code",
   "execution_count": 43,
   "id": "535d4abe",
   "metadata": {},
   "outputs": [
    {
     "name": "stderr",
     "output_type": "stream",
     "text": [
      "INFO:root:attributes: dict_keys([])\n",
      "INFO:root:__set__: '_src_ipv4' <- '2.2.2.2'\n",
      "INFO:root:__set__: '_dst_ipv4' <- '5.5.5.5'\n",
      "INFO:root:__get__: '_src_ipv4' -> '2.2.2.2'\n",
      "INFO:root:__get__: '_dst_ipv4' -> '5.5.5.5'\n"
     ]
    },
    {
     "data": {
      "text/plain": [
       "'5.5.5.5'"
      ]
     },
     "execution_count": 43,
     "metadata": {},
     "output_type": "execute_result"
    }
   ],
   "source": [
    "flow = Flow()\n",
    "\n",
    "logging.info(\"attributes: %r\", flow.__dict__.keys())\n",
    "\n",
    "flow.src_ipv4 = \"2.2.2.2\"\n",
    "flow.dst_ipv4 = \"5.5.5.5\"\n",
    "flow.src_ipv4\n",
    "flow.dst_ipv4"
   ]
  },
  {
   "cell_type": "markdown",
   "id": "36d4ac15",
   "metadata": {},
   "source": [
    "As you can see, we can assign valid IPv4 addresses to `flow.src_ipv4` and `flow.dst_ipv4`.\n",
    "\n",
    "But see what happens when we assign an invalid IPv4 string:"
   ]
  },
  {
   "cell_type": "code",
   "execution_count": 53,
   "id": "76cbb3dd",
   "metadata": {},
   "outputs": [
    {
     "ename": "ValidationException",
     "evalue": "5.5.5. is not a valid ipv4 address",
     "output_type": "error",
     "traceback": [
      "\u001b[0;31m---------------------------------------------------------------------------\u001b[0m",
      "\u001b[0;31mValidationException\u001b[0m                       Traceback (most recent call last)",
      "\u001b[0;32m<ipython-input-53-86168850f280>\u001b[0m in \u001b[0;36m<module>\u001b[0;34m\u001b[0m\n\u001b[0;32m----> 1\u001b[0;31m \u001b[0mflow\u001b[0m\u001b[0;34m.\u001b[0m\u001b[0msrc_ipv4\u001b[0m \u001b[0;34m=\u001b[0m \u001b[0;34m\"5.5.5.\"\u001b[0m\u001b[0;34m\u001b[0m\u001b[0;34m\u001b[0m\u001b[0m\n\u001b[0m",
      "\u001b[0;32m<ipython-input-48-f8c1cbfc54dd>\u001b[0m in \u001b[0;36m__set__\u001b[0;34m(self, obj, value)\u001b[0m\n\u001b[1;32m     20\u001b[0m \u001b[0;34m\u001b[0m\u001b[0m\n\u001b[1;32m     21\u001b[0m     \u001b[0;32mdef\u001b[0m \u001b[0m__set__\u001b[0m\u001b[0;34m(\u001b[0m\u001b[0mself\u001b[0m\u001b[0;34m,\u001b[0m \u001b[0mobj\u001b[0m\u001b[0;34m,\u001b[0m \u001b[0mvalue\u001b[0m\u001b[0;34m)\u001b[0m\u001b[0;34m:\u001b[0m\u001b[0;34m\u001b[0m\u001b[0;34m\u001b[0m\u001b[0m\n\u001b[0;32m---> 22\u001b[0;31m         \u001b[0mself\u001b[0m\u001b[0;34m.\u001b[0m\u001b[0mvalidate\u001b[0m\u001b[0;34m(\u001b[0m\u001b[0mvalue\u001b[0m\u001b[0;34m)\u001b[0m\u001b[0;34m\u001b[0m\u001b[0;34m\u001b[0m\u001b[0m\n\u001b[0m\u001b[1;32m     23\u001b[0m         \u001b[0mlogging\u001b[0m\u001b[0;34m.\u001b[0m\u001b[0minfo\u001b[0m\u001b[0;34m(\u001b[0m\u001b[0;34m\"__set__: %r <- %r\"\u001b[0m\u001b[0;34m,\u001b[0m \u001b[0mself\u001b[0m\u001b[0;34m.\u001b[0m\u001b[0mproperty_name\u001b[0m\u001b[0;34m,\u001b[0m \u001b[0mvalue\u001b[0m\u001b[0;34m)\u001b[0m\u001b[0;34m\u001b[0m\u001b[0;34m\u001b[0m\u001b[0m\n\u001b[1;32m     24\u001b[0m         \u001b[0msetattr\u001b[0m\u001b[0;34m(\u001b[0m\u001b[0mobj\u001b[0m\u001b[0;34m,\u001b[0m \u001b[0mself\u001b[0m\u001b[0;34m.\u001b[0m\u001b[0mproperty_name\u001b[0m\u001b[0;34m,\u001b[0m \u001b[0mvalue\u001b[0m\u001b[0;34m)\u001b[0m\u001b[0;34m\u001b[0m\u001b[0;34m\u001b[0m\u001b[0m\n",
      "\u001b[0;32m<ipython-input-48-f8c1cbfc54dd>\u001b[0m in \u001b[0;36mvalidate\u001b[0;34m(self, value)\u001b[0m\n\u001b[1;32m     38\u001b[0m         \u001b[0mipv4_pattern\u001b[0m \u001b[0;34m=\u001b[0m \u001b[0mre\u001b[0m\u001b[0;34m.\u001b[0m\u001b[0mcompile\u001b[0m\u001b[0;34m(\u001b[0m\u001b[0;34mr'^(?:[0-9]{1,3}\\.){3}[0-9]{1,3}$'\u001b[0m\u001b[0;34m)\u001b[0m\u001b[0;34m\u001b[0m\u001b[0;34m\u001b[0m\u001b[0m\n\u001b[1;32m     39\u001b[0m         \u001b[0;32mif\u001b[0m \u001b[0;32mnot\u001b[0m \u001b[0mipv4_pattern\u001b[0m\u001b[0;34m.\u001b[0m\u001b[0mmatch\u001b[0m\u001b[0;34m(\u001b[0m\u001b[0mvalue\u001b[0m\u001b[0;34m)\u001b[0m\u001b[0;34m:\u001b[0m\u001b[0;34m\u001b[0m\u001b[0;34m\u001b[0m\u001b[0m\n\u001b[0;32m---> 40\u001b[0;31m             \u001b[0;32mraise\u001b[0m \u001b[0mValidationException\u001b[0m\u001b[0;34m(\u001b[0m\u001b[0;34m\"{} is not a valid ipv4 address\"\u001b[0m\u001b[0;34m.\u001b[0m\u001b[0mformat\u001b[0m\u001b[0;34m(\u001b[0m\u001b[0mvalue\u001b[0m\u001b[0;34m)\u001b[0m\u001b[0;34m)\u001b[0m\u001b[0;34m\u001b[0m\u001b[0;34m\u001b[0m\u001b[0m\n\u001b[0m\u001b[1;32m     41\u001b[0m \u001b[0;34m\u001b[0m\u001b[0m\n\u001b[1;32m     42\u001b[0m \u001b[0;32mclass\u001b[0m \u001b[0mFlow\u001b[0m\u001b[0;34m:\u001b[0m\u001b[0;34m\u001b[0m\u001b[0;34m\u001b[0m\u001b[0m\n",
      "\u001b[0;31mValidationException\u001b[0m: 5.5.5. is not a valid ipv4 address"
     ]
    }
   ],
   "source": [
    "flow.src_ipv4 = \"5.5.5.\""
   ]
  },
  {
   "cell_type": "markdown",
   "id": "8e47a5ea",
   "metadata": {},
   "source": [
    "### Runtime Access Protection"
   ]
  },
  {
   "cell_type": "markdown",
   "id": "d663aa9a",
   "metadata": {},
   "source": [
    "Our next example uses the descriptor protocol to implement a runtime access protection for a password attribute."
   ]
  },
  {
   "cell_type": "code",
   "execution_count": 79,
   "id": "0e005307",
   "metadata": {},
   "outputs": [],
   "source": [
    "from abc import ABC, abstractmethod\n",
    "\n",
    "class UnauthorizedAccessException(Exception):\n",
    "    REASON_UNAUTHORIZED_CALLER = \"Caller is not authorized to perform {operation} operation on attribute {attribute}\"\n",
    "\n",
    "class ProtectedAttribute(ABC):\n",
    "    \n",
    "    def __set_name__(self, obj, name):\n",
    "        self._property_name = \"_\" + name\n",
    "    \n",
    "    def __get__(self, obj, obj_type=None):\n",
    "        \n",
    "        if not self.is_access_authorized(obj):\n",
    "            self._raise_unauthorized(\"read\")\n",
    "            \n",
    "        return getattr(obj, self._property_name)\n",
    "    \n",
    "    def __set__(self, obj, value):\n",
    "        \n",
    "        if not self.is_access_authorized(obj):\n",
    "            self._raise_unauthorized(\"write\")\n",
    "        \n",
    "        setattr(obj, self._property_name, value)\n",
    "        \n",
    "    def _raise_unauthorized(self, operation):\n",
    "        raise UnauthorizedAccessException(\n",
    "                UnauthorizedAccessException.REASON_UNAUTHORIZED_CALLER.format(\n",
    "                    operation=operation, \n",
    "                    attribute=self._property_name\n",
    "                )\n",
    "            )\n",
    "        \n",
    "    @abstractmethod\n",
    "    def is_access_authorized(self, obj):\n",
    "        pass\n",
    "    \n",
    "class SecurityContext:\n",
    "    \n",
    "    current_session = { \"user_name\": \"Max Mustermann\" }\n",
    "    \n",
    "class Password(ProtectedAttribute):\n",
    "    \n",
    "    def __init__(self, authorized_users):\n",
    "        self._authorized_users = authorized_users\n",
    "        \n",
    "    def is_access_authorized(self, obj):\n",
    "        \n",
    "        return SecurityContext.current_session[\"user_name\"] in self._authorized_users\n",
    "    \n",
    "class User:\n",
    "    \n",
    "    password = Password(authorized_users=[\"Maike Mareike\"])"
   ]
  },
  {
   "cell_type": "markdown",
   "id": "3e2df63e",
   "metadata": {},
   "source": [
    "The `__set__` and `__get__` descriptor methods invoke the abstract `is_access_authorized` method before accessing the descriptor attribute value. "
   ]
  },
  {
   "cell_type": "code",
   "execution_count": 80,
   "id": "f110c12d",
   "metadata": {},
   "outputs": [
    {
     "ename": "UnauthorizedAccessException",
     "evalue": "Caller is not authorized to perform write operation on attribute _password",
     "output_type": "error",
     "traceback": [
      "\u001b[0;31m---------------------------------------------------------------------------\u001b[0m",
      "\u001b[0;31mUnauthorizedAccessException\u001b[0m               Traceback (most recent call last)",
      "\u001b[0;32m<ipython-input-80-b925f049f61b>\u001b[0m in \u001b[0;36m<module>\u001b[0;34m\u001b[0m\n\u001b[1;32m      1\u001b[0m \u001b[0muser\u001b[0m \u001b[0;34m=\u001b[0m \u001b[0mUser\u001b[0m\u001b[0;34m(\u001b[0m\u001b[0;34m)\u001b[0m\u001b[0;34m\u001b[0m\u001b[0;34m\u001b[0m\u001b[0m\n\u001b[1;32m      2\u001b[0m \u001b[0;34m\u001b[0m\u001b[0m\n\u001b[0;32m----> 3\u001b[0;31m \u001b[0muser\u001b[0m\u001b[0;34m.\u001b[0m\u001b[0mpassword\u001b[0m \u001b[0;34m=\u001b[0m \u001b[0;34m\"my_secret\"\u001b[0m\u001b[0;34m\u001b[0m\u001b[0;34m\u001b[0m\u001b[0m\n\u001b[0m",
      "\u001b[0;32m<ipython-input-79-2e1ac42e3056>\u001b[0m in \u001b[0;36m__set__\u001b[0;34m(self, obj, value)\u001b[0m\n\u001b[1;32m     19\u001b[0m \u001b[0;34m\u001b[0m\u001b[0m\n\u001b[1;32m     20\u001b[0m         \u001b[0;32mif\u001b[0m \u001b[0;32mnot\u001b[0m \u001b[0mself\u001b[0m\u001b[0;34m.\u001b[0m\u001b[0mis_access_authorized\u001b[0m\u001b[0;34m(\u001b[0m\u001b[0mobj\u001b[0m\u001b[0;34m)\u001b[0m\u001b[0;34m:\u001b[0m\u001b[0;34m\u001b[0m\u001b[0;34m\u001b[0m\u001b[0m\n\u001b[0;32m---> 21\u001b[0;31m             \u001b[0mself\u001b[0m\u001b[0;34m.\u001b[0m\u001b[0m_raise_unauthorized\u001b[0m\u001b[0;34m(\u001b[0m\u001b[0;34m\"write\"\u001b[0m\u001b[0;34m)\u001b[0m\u001b[0;34m\u001b[0m\u001b[0;34m\u001b[0m\u001b[0m\n\u001b[0m\u001b[1;32m     22\u001b[0m \u001b[0;34m\u001b[0m\u001b[0m\n\u001b[1;32m     23\u001b[0m         \u001b[0msetattr\u001b[0m\u001b[0;34m(\u001b[0m\u001b[0mobj\u001b[0m\u001b[0;34m,\u001b[0m \u001b[0mself\u001b[0m\u001b[0;34m.\u001b[0m\u001b[0m_property_name\u001b[0m\u001b[0;34m,\u001b[0m \u001b[0mvalue\u001b[0m\u001b[0;34m)\u001b[0m\u001b[0;34m\u001b[0m\u001b[0;34m\u001b[0m\u001b[0m\n",
      "\u001b[0;32m<ipython-input-79-2e1ac42e3056>\u001b[0m in \u001b[0;36m_raise_unauthorized\u001b[0;34m(self, operation)\u001b[0m\n\u001b[1;32m     24\u001b[0m \u001b[0;34m\u001b[0m\u001b[0m\n\u001b[1;32m     25\u001b[0m     \u001b[0;32mdef\u001b[0m \u001b[0m_raise_unauthorized\u001b[0m\u001b[0;34m(\u001b[0m\u001b[0mself\u001b[0m\u001b[0;34m,\u001b[0m \u001b[0moperation\u001b[0m\u001b[0;34m)\u001b[0m\u001b[0;34m:\u001b[0m\u001b[0;34m\u001b[0m\u001b[0;34m\u001b[0m\u001b[0m\n\u001b[0;32m---> 26\u001b[0;31m         raise UnauthorizedAccessException(\n\u001b[0m\u001b[1;32m     27\u001b[0m                 UnauthorizedAccessException.REASON_UNAUTHORIZED_CALLER.format(\n\u001b[1;32m     28\u001b[0m                     \u001b[0moperation\u001b[0m\u001b[0;34m=\u001b[0m\u001b[0moperation\u001b[0m\u001b[0;34m,\u001b[0m\u001b[0;34m\u001b[0m\u001b[0;34m\u001b[0m\u001b[0m\n",
      "\u001b[0;31mUnauthorizedAccessException\u001b[0m: Caller is not authorized to perform write operation on attribute _password"
     ]
    }
   ],
   "source": [
    "user = User()\n",
    "\n",
    "user.password = \"my_secret\""
   ]
  },
  {
   "cell_type": "markdown",
   "id": "3044b716",
   "metadata": {},
   "source": [
    "This is a very simple example of runtime protection through the descriptor protocol.\n",
    "But the idea behind it is very powerful.\n",
    "Especially if you consider that the Python language lacks encapsulation.\n",
    "\n",
    "Programming languages such as Java offer modifiers like `private` to encapsulate your code access.\n",
    "\n",
    "While we cannot achieve an encapsulation through the typing system in Python, we can ensure it through descriptors at runtime.\n",
    "\n",
    "There is no clean way to circumvent the `is_access_authorized` method while accessing the `user.password` field.\n",
    "\n",
    "(We have to relativize this expression.\n",
    "Python makes it possible to change the method implementation at runtime, also called \"monkey patching\".\n",
    "\n",
    "Thus, it is possible to override the `setattr` and `getattr` implementation for the `Password` class at runtime.)"
   ]
  },
  {
   "cell_type": "markdown",
   "id": "e62ca91d",
   "metadata": {},
   "source": [
    "### Invoke Side Effects"
   ]
  },
  {
   "cell_type": "markdown",
   "id": "055693e2",
   "metadata": {},
   "source": [
    "Our next example is a `Configuration` attribute class. The `Configuration` gets represented as a dictionary data structure in memory, and as a JSON file on the file system.\n",
    "\n",
    "The challenge with the `Configruation` attribute class is to keep it's value in memory in sync with the JSON file on disk."
   ]
  },
  {
   "cell_type": "code",
   "execution_count": 64,
   "id": "cfeb771f",
   "metadata": {},
   "outputs": [],
   "source": [
    "import json\n",
    "import logging\n",
    "\n",
    "logging.basicConfig(level=logging.INFO)\n",
    "\n",
    "class JSONConfiguration:\n",
    "    \n",
    "    def __init__(self, file_path):\n",
    "        self._file_path = file_path\n",
    "        \n",
    "    def __set_name__(self, obj, name):\n",
    "        self._property_name = \"_\" + name\n",
    "        \n",
    "    def _write_to_disk(self, config_dict):\n",
    "        \n",
    "        logging.info(\"write config back to disk on path %r\", self._file_path)\n",
    "        json_str = json.dumps(config_dict)\n",
    "        \n",
    "        with open(self._file_path) as config_file:\n",
    "            confoig_file.write(json_str)\n",
    "        \n",
    "    def __get__(self, obj, obj_type=None):\n",
    "        return getattr(obj, self._property_name)\n",
    "    \n",
    "    def __set__(self, obj, value):\n",
    "        setattr(obj, self._property_name, value)\n",
    "        self._write_to_disk(value)\n",
    "        \n",
    "\n",
    "class Application:\n",
    "    \n",
    "    config = JSONConfiguration(\n",
    "        file_path=\"/tmp/config.json\", \n",
    "    )"
   ]
  },
  {
   "cell_type": "markdown",
   "id": "81efdc35",
   "metadata": {},
   "source": [
    "The `Application.config` object behaves like a dictionary from the perspective of the caller. \n",
    "\n",
    "It completely hides the `_write_to_disk` method that gets invoked by the `__set__` descriptor method. \n",
    "This simplifies the contract between the `Application.config` attribute and the caller.\n",
    "\n",
    "Without the use of descriptors, the contract would make the caller responsible for calling the `_write_to_disk` method after modifying the config dictionary data structure."
   ]
  },
  {
   "cell_type": "code",
   "execution_count": 70,
   "id": "0b3fdec7",
   "metadata": {},
   "outputs": [
    {
     "name": "stderr",
     "output_type": "stream",
     "text": [
      "INFO:root:write config back to disk on path '/tmp/config.json'\n"
     ]
    },
    {
     "ename": "FileNotFoundError",
     "evalue": "[Errno 2] No such file or directory: '/tmp/config.json'",
     "output_type": "error",
     "traceback": [
      "\u001b[0;31m---------------------------------------------------------------------------\u001b[0m",
      "\u001b[0;31mFileNotFoundError\u001b[0m                         Traceback (most recent call last)",
      "\u001b[0;32m<ipython-input-70-0ccf8f4311f0>\u001b[0m in \u001b[0;36m<module>\u001b[0;34m\u001b[0m\n\u001b[1;32m      1\u001b[0m \u001b[0mapplication\u001b[0m \u001b[0;34m=\u001b[0m \u001b[0mApplication\u001b[0m\u001b[0;34m(\u001b[0m\u001b[0;34m)\u001b[0m\u001b[0;34m\u001b[0m\u001b[0;34m\u001b[0m\u001b[0m\n\u001b[0;32m----> 2\u001b[0;31m \u001b[0mapplication\u001b[0m\u001b[0;34m.\u001b[0m\u001b[0mconfig\u001b[0m \u001b[0;34m=\u001b[0m \u001b[0;34m{\u001b[0m \u001b[0;34m\"host\"\u001b[0m\u001b[0;34m:\u001b[0m \u001b[0;34m\"localhost\"\u001b[0m\u001b[0;34m,\u001b[0m \u001b[0;34m\"port\"\u001b[0m\u001b[0;34m:\u001b[0m \u001b[0;34m\"8088\"\u001b[0m\u001b[0;34m}\u001b[0m\u001b[0;34m\u001b[0m\u001b[0;34m\u001b[0m\u001b[0m\n\u001b[0m",
      "\u001b[0;32m<ipython-input-64-06078f3aa6fa>\u001b[0m in \u001b[0;36m__set__\u001b[0;34m(self, obj, value)\u001b[0m\n\u001b[1;32m     25\u001b[0m     \u001b[0;32mdef\u001b[0m \u001b[0m__set__\u001b[0m\u001b[0;34m(\u001b[0m\u001b[0mself\u001b[0m\u001b[0;34m,\u001b[0m \u001b[0mobj\u001b[0m\u001b[0;34m,\u001b[0m \u001b[0mvalue\u001b[0m\u001b[0;34m)\u001b[0m\u001b[0;34m:\u001b[0m\u001b[0;34m\u001b[0m\u001b[0;34m\u001b[0m\u001b[0m\n\u001b[1;32m     26\u001b[0m         \u001b[0msetattr\u001b[0m\u001b[0;34m(\u001b[0m\u001b[0mobj\u001b[0m\u001b[0;34m,\u001b[0m \u001b[0mself\u001b[0m\u001b[0;34m.\u001b[0m\u001b[0m_property_name\u001b[0m\u001b[0;34m,\u001b[0m \u001b[0mvalue\u001b[0m\u001b[0;34m)\u001b[0m\u001b[0;34m\u001b[0m\u001b[0;34m\u001b[0m\u001b[0m\n\u001b[0;32m---> 27\u001b[0;31m         \u001b[0mself\u001b[0m\u001b[0;34m.\u001b[0m\u001b[0m_write_to_disk\u001b[0m\u001b[0;34m(\u001b[0m\u001b[0mvalue\u001b[0m\u001b[0;34m)\u001b[0m\u001b[0;34m\u001b[0m\u001b[0;34m\u001b[0m\u001b[0m\n\u001b[0m\u001b[1;32m     28\u001b[0m \u001b[0;34m\u001b[0m\u001b[0m\n\u001b[1;32m     29\u001b[0m \u001b[0;34m\u001b[0m\u001b[0m\n",
      "\u001b[0;32m<ipython-input-64-06078f3aa6fa>\u001b[0m in \u001b[0;36m_write_to_disk\u001b[0;34m(self, config_dict)\u001b[0m\n\u001b[1;32m     17\u001b[0m         \u001b[0mjson_str\u001b[0m \u001b[0;34m=\u001b[0m \u001b[0mjson\u001b[0m\u001b[0;34m.\u001b[0m\u001b[0mdumps\u001b[0m\u001b[0;34m(\u001b[0m\u001b[0mconfig_dict\u001b[0m\u001b[0;34m)\u001b[0m\u001b[0;34m\u001b[0m\u001b[0;34m\u001b[0m\u001b[0m\n\u001b[1;32m     18\u001b[0m \u001b[0;34m\u001b[0m\u001b[0m\n\u001b[0;32m---> 19\u001b[0;31m         \u001b[0;32mwith\u001b[0m \u001b[0mopen\u001b[0m\u001b[0;34m(\u001b[0m\u001b[0mself\u001b[0m\u001b[0;34m.\u001b[0m\u001b[0m_file_path\u001b[0m\u001b[0;34m)\u001b[0m \u001b[0;32mas\u001b[0m \u001b[0mconfig_file\u001b[0m\u001b[0;34m:\u001b[0m\u001b[0;34m\u001b[0m\u001b[0;34m\u001b[0m\u001b[0m\n\u001b[0m\u001b[1;32m     20\u001b[0m             \u001b[0mconfoig_file\u001b[0m\u001b[0;34m.\u001b[0m\u001b[0mwrite\u001b[0m\u001b[0;34m(\u001b[0m\u001b[0mjson_str\u001b[0m\u001b[0;34m)\u001b[0m\u001b[0;34m\u001b[0m\u001b[0;34m\u001b[0m\u001b[0m\n\u001b[1;32m     21\u001b[0m \u001b[0;34m\u001b[0m\u001b[0m\n",
      "\u001b[0;31mFileNotFoundError\u001b[0m: [Errno 2] No such file or directory: '/tmp/config.json'"
     ]
    }
   ],
   "source": [
    "application = Application()\n",
    "application.config = { \"host\": \"localhost\", \"port\": \"8088\"}"
   ]
  },
  {
   "cell_type": "markdown",
   "id": "1a181a17",
   "metadata": {},
   "source": [
    "(These code examples come from a Jupyter notebook, so please ignore the `FileNotFoundError` exception.)"
   ]
  },
  {
   "cell_type": "markdown",
   "id": "ebb75e2a",
   "metadata": {},
   "source": [
    "### @property "
   ]
  },
  {
   "cell_type": "markdown",
   "id": "b8336cf0",
   "metadata": {},
   "source": [
    "You may remember that I told you in the abstract how the descriptor protocol may help you understand the python standard library code?\n",
    "\n",
    "This example demonstrates how the popular `@popular` annotation can be implemented through the descriptor and decorator protocols."
   ]
  },
  {
   "cell_type": "code",
   "execution_count": 71,
   "id": "51f02b86",
   "metadata": {},
   "outputs": [],
   "source": [
    "import logging\n",
    "\n",
    "logging.basicConfig(level=logging.INFO)\n",
    "\n",
    "class prop:\n",
    "    \n",
    "    def __init__(self, fget=None, fset=None, fdel=None):\n",
    "        self._fget = fget  \n",
    "        self._fset = fset\n",
    "        self._fdel = fdel\n",
    "        \n",
    "    def __get__(self, obj, obj_type):\n",
    "        value = self._fget(obj)\n",
    "        logging.info(\"read: {}\".format(value))\n",
    "        return value\n",
    "    \n",
    "    def __set__(self, obj, value):\n",
    "        logging.info(\"write: {}\".format(value))\n",
    "        self._fset(obj, value)\n",
    "        \n",
    "    def __del__(self, obj):\n",
    "        logging.info(\"del\")\n",
    "        self._fdel(obj)\n",
    "        \n",
    "    def __call__(self, fget):\n",
    "        return type(self)(fget, self._fset, self._fdel)\n",
    "\n",
    "    def setter(self, fset):\n",
    "        return type(self)(self._fget, fset, self._fdel)\n",
    "\n",
    "    def deleter(self, fdel):\n",
    "        return type(self)(self._fget, self._fset, fdel)\n",
    "        \n",
    "class Person:\n",
    "    \n",
    "    @prop\n",
    "    def name(self):\n",
    "        return self._name\n",
    "    \n",
    "    @name.setter\n",
    "    def set_name(self, value):\n",
    "        self._name = value\n",
    "    \n",
    "    @name.deleter\n",
    "    def delete_name(self):\n",
    "        del self._name\n",
    "        \n",
    "    @prop\n",
    "    def first_name(self):\n",
    "        return self._first_name\n",
    "        \n",
    "    @first_name.setter\n",
    "    def set_first_name(self, value):\n",
    "        self._first_name = value\n",
    "        \n",
    "    @first_name.deleter\n",
    "    def delete_first_name(self):\n",
    "        del self._first_name"
   ]
  },
  {
   "cell_type": "markdown",
   "id": "11528e9b",
   "metadata": {},
   "source": [
    "This code may look scary for you at first. \n",
    "Especially if you are not accustomed to the decorator protocol.\n",
    "\n",
    "(Spoiler alert, we will have a blog post for the decorator protocol next ;-) )\n",
    "\n",
    "I'll walk you through the code quickly.\n",
    "\n",
    "First, let us understand how the decorator notion of the code works.\n",
    "\n",
    "The `__init__` method gets called when you annotate the `@property` decorator. \n",
    "The arguments of the `__init__` method are the parameters that you pass to the decorator call.\n",
    "\n",
    "We use a little trick in our example.\n",
    "\n",
    "Our `@property` descriptor requires `getter`, `setter`, and `deleter` methods for our property.\n",
    "But we do not want to pass all of the methods right away `@property(fget=..., fset=..., fdel=...)`.\n",
    "\n",
    "We want to annotate the `getter`, `setter` and `deleter` separately to make our API even more elegant. \n",
    "Thus, we use `None` as the default parameter for our `fget`, `fset`, and `fdel` methods. \n",
    "\n",
    "Let us now see how we fill the decorator attributes `fget`, `fset`, and `fdel` with real methods.\n",
    "\n",
    "The `__call__` method gets invoked when the decorator gets called. The `__call__` method takes a method as an argument (in our case the `fget` => getter method) and returns a method again.\n",
    "\n",
    "Our `__call__` methods returns a new decorator that uses `fget` as getter method. The line\n",
    "`type(self)(fget, self._fset, self._fdel)` returns the decorator instance itself while adding the `fget` method.\n",
    "\n",
    "Last but not least, our descriptor methods invoke the `fget`, `fset`, and `fdel` methods."
   ]
  },
  {
   "cell_type": "code",
   "execution_count": 32,
   "id": "ce25a1a8",
   "metadata": {},
   "outputs": [
    {
     "name": "stderr",
     "output_type": "stream",
     "text": [
      "INFO:root:write: Max\n",
      "INFO:root:write: Mustermann\n",
      "INFO:root:attributes: dict_keys(['_name', '_first_name'])\n"
     ]
    }
   ],
   "source": [
    "person = Person()\n",
    "person.set_name = \"Max\"\n",
    "person.set_first_name = \"Mustermann\"\n",
    "\n",
    "logging.info(\"attributes: %r\", person.__dict__.keys())"
   ]
  },
  {
   "cell_type": "markdown",
   "id": "a9ce339c",
   "metadata": {},
   "source": [
    "### Summary\n",
    "\n",
    "So, that's it.\n",
    "My first ever blog post and you made it right to the end, thank you! :-)\n",
    "\n",
    "In this post, we learned a few things about the Python data model.\n",
    "We demonstrated the accessor methods `getattr`, `setattr`, and `delattr` and explained how they relate to the Python `__dict__` data structure and to the descriptor protocol.\n",
    "\n",
    "Later on, we saw applications of the descriptor protocol.\n",
    "Finally, we saw how the popular `@property` annotation can be implemented through a synergy of the decorator and descriptor protocol.\n",
    "\n",
    "Learning new protocols and syntaxes in a programming language is very exciting.\n",
    "But we should not get carried away by this excitement.\n",
    "\n",
    "The descriptor protocol proves useful in very specific scenarios, some of which we showed in the blog post.\n",
    "Personally, I see the strength of the descriptor protocol especially in the design of APIs in Python libraries.\n",
    "\n",
    "The protocol does a very good job at hiding implementation details and thus simplifying the contract between descriptor attribute and caller.\n",
    "\n",
    "But it is not a **golden hammer**!\n",
    "\n",
    "**Do not** write every attribute as descriptor attribute.\n",
    "\n",
    "In general, programming should be about working yourself **from the problem to the solution**, not the other way around.\n",
    "\n",
    "Thus, do not use design patterns or language constructs wherever you see fit!\n",
    "\n",
    "I hope you could learn one or two things about Python through this post.\n",
    "I surely did!\n",
    "\n",
    "Please consider sharing a link to the post if you enjoyed reading it.\n",
    "It helps me to build an audience and is greatly appreciated.\n",
    "\n",
    "cheers,\n",
    "Dennis\n",
    "\n"
   ]
  }
 ],
 "metadata": {
  "kernelspec": {
   "display_name": "Python 3",
   "language": "python",
   "name": "python3"
  },
  "language_info": {
   "codemirror_mode": {
    "name": "ipython",
    "version": 3
   },
   "file_extension": ".py",
   "mimetype": "text/x-python",
   "name": "python",
   "nbconvert_exporter": "python",
   "pygments_lexer": "ipython3",
   "version": "3.9.5"
  }
 },
 "nbformat": 4,
 "nbformat_minor": 5
}
