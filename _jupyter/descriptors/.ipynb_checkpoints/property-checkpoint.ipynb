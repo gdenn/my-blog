{
 "cells": [
  {
   "cell_type": "code",
   "execution_count": 12,
   "id": "398fb885",
   "metadata": {},
   "outputs": [],
   "source": [
    "import logging\n",
    "\n",
    "logging.basicConfig(level=logging.INFO)\n",
    "\n",
    "class prop:\n",
    "    \n",
    "    def __init__(self, fget=None, fset=None, fdel=None):\n",
    "        self._fget = fget  \n",
    "        self._fset = fset\n",
    "        self._fdel = fdel\n",
    "        \n",
    "    def __get__(self, obj, obj_type):\n",
    "        value = self._fget(obj)\n",
    "        logging.info(\"read: {}\".format(value))\n",
    "        return value\n",
    "    \n",
    "    def __set__(self, obj, value):\n",
    "        logging.info(\"write: {}\".format(value))\n",
    "        self._fset(obj, value)\n",
    "        \n",
    "    def __del__(self, obj):\n",
    "        logging.info(\"del: {}\")\n",
    "        self._fdel(obj, value)\n",
    "        \n",
    "    \n",
    "    def __call__(self, fget):\n",
    "        return type(self)(fget, self._fset, self._fdel)\n",
    "\n",
    "    def setter(self, fset):\n",
    "        return type(self)(self._fget, fset, self._fdel)\n",
    "\n",
    "    def deleter(self, fdel):\n",
    "        return type(self)(self._fget, self._fset, fdel)\n",
    "        \n",
    "class Person:\n",
    "    \n",
    "    @prop\n",
    "    def name(self):\n",
    "        return self._name\n",
    "    \n",
    "    @name.setter\n",
    "    def set_name(self, value):\n",
    "        self._name = value\n",
    "        \n",
    "    @name.deleter\n",
    "    def delete_name(self):\n",
    "        del self._name\n",
    "        \n",
    "        \n",
    "\n",
    "\n",
    "\n",
    "        "
   ]
  },
  {
   "cell_type": "code",
   "execution_count": 13,
   "id": "f976fbe5",
   "metadata": {},
   "outputs": [
    {
     "name": "stderr",
     "output_type": "stream",
     "text": [
      "INFO:root:write: Max\n",
      "INFO:root:read: Max\n"
     ]
    },
    {
     "data": {
      "text/plain": [
       "'Max'"
      ]
     },
     "execution_count": 13,
     "metadata": {},
     "output_type": "execute_result"
    }
   ],
   "source": [
    "person = Person()\n",
    "\n",
    "person.set_name = \"Max\"\n",
    "\n",
    "person.name"
   ]
  },
  {
   "cell_type": "code",
   "execution_count": null,
   "id": "2797d691",
   "metadata": {},
   "outputs": [],
   "source": []
  }
 ],
 "metadata": {
  "kernelspec": {
   "display_name": "Python 3",
   "language": "python",
   "name": "python3"
  },
  "language_info": {
   "codemirror_mode": {
    "name": "ipython",
    "version": 3
   },
   "file_extension": ".py",
   "mimetype": "text/x-python",
   "name": "python",
   "nbconvert_exporter": "python",
   "pygments_lexer": "ipython3",
   "version": "3.9.5"
  }
 },
 "nbformat": 4,
 "nbformat_minor": 5
}
